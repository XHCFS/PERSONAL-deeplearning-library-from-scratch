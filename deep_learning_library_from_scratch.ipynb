{
  "cells": [
    {
      "cell_type": "code",
      "execution_count": 2,
      "id": "5dd6eed2-0ddd-47e2-8028-3757e8c22c47",
      "metadata": {
        "id": "5dd6eed2-0ddd-47e2-8028-3757e8c22c47"
      },
      "outputs": [],
      "source": [
        "import numpy as np\n",
        "import math"
      ]
    },
    {
      "cell_type": "code",
      "execution_count": 3,
      "id": "14b1fb3d-c8f3-4839-a9f4-f7721fc3f54c",
      "metadata": {
        "id": "14b1fb3d-c8f3-4839-a9f4-f7721fc3f54c"
      },
      "outputs": [],
      "source": [
        "\n",
        "class activation_function:\n",
        "    def pass_values(self,input_values):\n",
        "        pass\n",
        "    def get_gradient(self,gradient):\n",
        "        pass\n",
        "\n",
        "\n",
        "class layer:\n",
        "    def forward(input_values):\n",
        "        pass\n",
        "    def get_running_gradient(self,gradient):\n",
        "        pass\n",
        "    def get_parameter_gradients(self,gradient,X):\n",
        "        pass\n",
        "    def get_parameters(self):\n",
        "        pass\n",
        "\n",
        "\n",
        "class optimizer:\n",
        "    def update_parameter(self,parameter):\n",
        "        pass\n",
        "\n",
        "class cost_function:\n",
        "    def get_cost(self,output_values, expected_values):\n",
        "        pass\n",
        "    def get_gradient(self,output_values, expected_values):\n",
        "        pass"
      ]
    },
    {
      "cell_type": "code",
      "execution_count": 4,
      "id": "a5094409-467a-4487-848b-f794d3135184",
      "metadata": {
        "id": "a5094409-467a-4487-848b-f794d3135184"
      },
      "outputs": [],
      "source": [
        "class relu(activation_function):\n",
        "    def pass_value(self,input_values):\n",
        "        self.input_values=input_values\n",
        "        return np.maximum(input_values,0)\n",
        "    def get_gradient(self):\n",
        "        return (self.input_values > 0).astype(float)\n",
        "\n",
        "\n",
        "class sigmoid(activation_function):\n",
        "    def pass_value(self,input_values):\n",
        "        self.output=1 / (1 + np.exp(-input_values))\n",
        "        return self.output\n",
        "    def get_gradient(self):\n",
        "        return self.output * (1- self.output)\n",
        "\n",
        "\n",
        "\n"
      ]
    },
    {
      "cell_type": "code",
      "execution_count": 5,
      "id": "b6af22a2-cb63-4bfe-b2b2-6f8f064ef6d6",
      "metadata": {
        "id": "b6af22a2-cb63-4bfe-b2b2-6f8f064ef6d6"
      },
      "outputs": [],
      "source": [
        "class SGD(optimizer):\n",
        "    def __init__(self,alpha):\n",
        "        self.alpha=alpha\n",
        "    def update_parameter(self,gradient,parameters):\n",
        "        if not parameters:\n",
        "            return\n",
        "\n",
        "        for index in range(len(parameters)):\n",
        "            parameters[index][:]-= gradient[index] * self.alpha\n"
      ]
    },
    {
      "cell_type": "code",
      "execution_count": 119,
      "id": "f57eaed5-d3a8-4977-9965-8c4f7d1d9f9a",
      "metadata": {
        "id": "f57eaed5-d3a8-4977-9965-8c4f7d1d9f9a"
      },
      "outputs": [],
      "source": [
        "class MSE(cost_function):\n",
        "    def get_cost(self,output_values, expected_values):\n",
        "        return 0.5*np.mean(np.square(expected_values-output_values))\n",
        "    def get_gradient(self,output_values, expected_values):\n",
        "        return   0.5*(-expected_values+output_values)\n",
        "\n",
        "class binary_cross_entropy(cost_function):\n",
        "    def get_cost(self,output_values, expected_values):\n",
        "        output_values=np.clip(output_values,1e-15,1-1e-15)\n",
        "        loss=-(expected_values* np.log(output_values)+(1-expected_values)*np.log(1-output_values))\n",
        "        return np.mean(loss)\n",
        "    def get_gradient(self,output_values, expected_values):\n",
        "        output_values=np.clip(output_values,1e-15,1-1e-15)\n",
        "        return  -(expected_values/output_values) + ((1-expected_values)/(1-output_values))\n",
        "\n"
      ]
    },
    {
      "cell_type": "code",
      "execution_count": 120,
      "id": "8148dccf-1349-485e-a10f-3568c17e675d",
      "metadata": {
        "id": "8148dccf-1349-485e-a10f-3568c17e675d"
      },
      "outputs": [],
      "source": [
        "\n",
        "\n",
        "def get_activation_functions():\n",
        "    return {\n",
        "        \"relu\":relu(),\n",
        "  #      \"leaky_relu\":leaky_relu,\n",
        "        \"sigmoid\":sigmoid(),\n",
        "  #      \"tanh\":tanh,\n",
        "    }\n",
        "\n",
        "def get_cost_functions():\n",
        "    return {\n",
        "        \"MSE\":MSE(),\n",
        "        \"binary_cross_entropy\":binary_cross_entropy()\n",
        "\n",
        "    }\n",
        "\n",
        "def get_optimizers():\n",
        "    return {\n",
        "        \"SGD\":SGD,\n",
        "    }\n",
        "\n"
      ]
    },
    {
      "cell_type": "code",
      "execution_count": 121,
      "id": "adb5c48d-bab8-4b98-a3e4-9ba1ca40996b",
      "metadata": {
        "id": "adb5c48d-bab8-4b98-a3e4-9ba1ca40996b"
      },
      "outputs": [],
      "source": [
        "def initialize_weights(shape, activation_function):\n",
        "    if len(shape)>2:\n",
        "        fan_in = shape[0] * shape[2] * shape[3]\n",
        "        fan_out = shape[1] * shape[2] * shape[3]\n",
        "\n",
        "    else:\n",
        "        fan_in=shape[0]\n",
        "        fan_out=shape[1]\n",
        "\n",
        "    match activation_function:\n",
        "        case \"sigmoid\" | \"tanh\":\n",
        "            weights = np.sqrt(2 / (fan_in + fan_out)) *np.random.randn(*shape)\n",
        "        case \"relu\" | \"leaky_relu\":\n",
        "            limit = np.sqrt(6 / fan_in)\n",
        "            weights = np.random.uniform(-limit,limit, shape)\n",
        "\n",
        "    return weights\n",
        "\n"
      ]
    },
    {
      "cell_type": "code",
      "execution_count": 122,
      "id": "96cfc487-e06d-4770-867e-404e482a44e4",
      "metadata": {
        "id": "96cfc487-e06d-4770-867e-404e482a44e4"
      },
      "outputs": [],
      "source": [
        "class linear(layer):\n",
        "    def __init__(self,input_size,output_size,activation_function):\n",
        "        self.activation_function=get_activation_functions()[activation_function.lower()]\n",
        "        self.weights=initialize_weights((input_size,output_size),activation_function.lower())\n",
        "        self.bias=np.zeros(output_size)\n",
        "\n",
        "    def forward(self,input_values):\n",
        "        return self.activation_function.pass_value(input_values @ self.weights + self.bias)\n",
        "\n",
        "    def get_running_gradient(self,gradient):\n",
        "        gradient=gradient * self.activation_function.get_gradient()\n",
        "        self.dX=gradient @ self.weights.T\n",
        "        return self.dX\n",
        "\n",
        "    def get_parameter_gradients(self,gradient, X):\n",
        "        self.dW= X.shape[0]**(-1) *(  X.T @ gradient )\n",
        "        self.db= ( gradient.mean(axis=0))\n",
        "        return [self.dW,self.db]\n",
        "\n",
        "    def get_parameters(self):\n",
        "        return [self.weights,self.bias]\n"
      ]
    },
    {
      "cell_type": "code",
      "execution_count": 123,
      "id": "92e6ff88-e9fa-498d-8051-d708f481e295",
      "metadata": {
        "id": "92e6ff88-e9fa-498d-8051-d708f481e295"
      },
      "outputs": [],
      "source": [
        "\n",
        "\n",
        "def conv_pad(kernels,feature_map):\n",
        "    pad_dim_kernel=((feature_map.shape[0]-1,feature_map.shape[0]-1),\n",
        "                    (feature_map.shape[1]-1,feature_map.shape[1]-1))\n",
        "\n",
        "\n",
        "\n",
        "    padded_kernel = np.pad(kernels, pad_width= pad_dim_kernel,\n",
        "                           mode='constant', constant_values=0)\n",
        "    return padded_kernel\n",
        "\n",
        "def valid_convolution_cnn2d(kernels,feature_map,stride,padding=False):\n",
        "\n",
        "    padded_kernels=conv_pad(kernels,feature_map)\n",
        "    padded_feature_map=conv_pad(feature_map,kernels)\n",
        "\n",
        "    tranformed_kernels=np.fft.fft2(padded_kernels, axes=(-2,-1))\n",
        "    tranformed_feature_map=np.fft.fft2(padded_feature_map, axes=(-2,-1))\n",
        "\n",
        "    transformed_kernels=transformed_kernels[np.newaxis,:,:,:,:]\n",
        "    transformed_feature_map= transformed_feature_map[:,np.newaxis,:,:,:]\n",
        "\n",
        "    product_result=transformed_kernels*transformed_feature_map\n",
        "\n",
        "    result=np.fft.ifft2(product_result, axes=(-2,-1))\n",
        "\n",
        "    if not padding:\n",
        "\n",
        "        crop=(kernels.shape[2] - 1) // 2\n",
        "        result=result[:,:,:,crop:-crop,crop:-crop]\n",
        "\n",
        "    result=result[:,:,:,::stride,::stride]\n",
        "\n",
        "    return result\n"
      ]
    },
    {
      "cell_type": "code",
      "execution_count": 124,
      "id": "b636df76-16b4-406a-bf61-318644679104",
      "metadata": {
        "id": "b636df76-16b4-406a-bf61-318644679104"
      },
      "outputs": [],
      "source": [
        "\n",
        "class convolutional_2d(layer):\n",
        "    def __init__(self,input_channel_size, output_channel_size, kernel_size, padding, activation_function):\n",
        "        self.activation_function=get_activation_functions()[activation_function.lower()]\n",
        "        self.kernels=initialize_weights((input_channel_size,\n",
        "                                         output_channel_size,kernel_size),activation_function.lower())\n",
        "        self.bias=np.zeros(output_channel_size)\n",
        "        self.padding=padding\n",
        "    def forward(self,feature_map):\n",
        "        convolution_result=valid_convolution_cnn2d(self.kernels,feature_map,self.padding)\n",
        "        result_bias=convolution_result + self.bias[:,np.newaxis,np.newaxis,np.newaxis]\n",
        "        return self.activation_function.pass_value(result_bias)\n",
        "\n",
        "    def get_running_gradient(self,gradient):\n",
        "\n",
        "        dX= valid_convolution_cnn2d(gradient,self.kernels[:,:,::-1,::-1],self.padding)\n",
        "        dX=dX*self.activation_function.get_gradient()\n",
        "        return dX\n",
        "\n",
        "    def get_parameter_gradients(self,gradient, X):\n",
        "\n",
        "        if self.padding:\n",
        "            X_modified= conv_pad(X,self.kernels)\n",
        "        else:\n",
        "            X_modified=X\n",
        "\n",
        "        self.dK= valid_convolution_cnn2d(gradient, X_modified ,False)\n",
        "        self.db= np.sum(gradient, axis=(0,2,3))/ gradient.shape[0]\n",
        "        return [self.dK,self.db]\n",
        "\n",
        "    def get_parameters():\n",
        "        return [self.kernels,self.bias]\n",
        "\n",
        "\n",
        "class convolutional_3d(layer):\n",
        "    def __init__(kernel_dimensions, stride, bias, activation_function):\n",
        "        pass\n",
        "\n",
        "class flatten(layer):\n",
        "    def forward(self,X):\n",
        "        self.shape=x.shape\n",
        "        return X.reshape(x.shape[0], -1)\n",
        "\n",
        "    def get_running_gradient(self,gradient):\n",
        "        return gradient.reshape(self.shape)\n",
        "\n",
        "    def get_parameters():\n",
        "        return []\n",
        "    def get_parameter_gradients():\n",
        "        return []\n",
        "\n",
        "\n",
        "class max_pool(layer):\n",
        "    def __init__(self):\n",
        "        pass\n",
        "\n",
        "    def get_parameters():\n",
        "        return []\n",
        "    def get_parameter_gradients():\n",
        "        return []\n",
        "\n",
        "\n",
        "class avg_pool2d(layer):\n",
        "    def __init__(self):\n",
        "        pass\n",
        "\n",
        "    def get_parameters():\n",
        "        return []\n",
        "    def get_parameter_gradients():\n",
        "        return []\n",
        "\n",
        "\n",
        "class max_pool2d(layer):\n",
        "    def __init__(self):\n",
        "        pass\n",
        "\n",
        "    def get_parameters():\n",
        "        return []\n",
        "    def get_parameter_gradients():\n",
        "        return []\n",
        "\n",
        "class avg_pool3d(layer):\n",
        "    def __init__(self):\n",
        "        pass\n",
        "\n",
        "    def get_parameters():\n",
        "        return []\n",
        "    def get_parameter_gradients():\n",
        "        return []\n",
        "\n",
        "class max_pool3d(layer):\n",
        "    def __init__(self):\n",
        "        pass\n",
        "\n",
        "    def get_parameters():\n",
        "        return []\n",
        "    def get_parameter_gradients():\n",
        "        return []\n"
      ]
    },
    {
      "cell_type": "code",
      "execution_count": 125,
      "id": "a3a24841-24cf-405f-9b27-7b4abefa4b07",
      "metadata": {
        "id": "a3a24841-24cf-405f-9b27-7b4abefa4b07"
      },
      "outputs": [],
      "source": [
        "class model():\n",
        "    def __init__(self,layers,cost_function,optimizer, batch_size, X, Y,epochs):\n",
        "        self.layers=layers\n",
        "        self.optimizer=optimizer\n",
        "        self.epochs=epochs\n",
        "        self.layer_values=[]\n",
        "\n",
        "        self.cost_function=get_cost_functions()[cost_function]\n",
        "        self.Y=Y\n",
        "        self.X=X\n",
        "        self.number_of_batches= X.shape[0] // batch_size\n",
        "        self.batch_size=batch_size\n",
        "        self.running_avg=self.batch_size*(-1)\n",
        "        self.costs=0\n",
        "\n",
        "    def train(self):\n",
        "        for epoch in range(self.epochs):\n",
        "            for batch in range(self.number_of_batches):\n",
        "                self.layer_values=[]\n",
        "                start=batch*self.batch_size\n",
        "                end=min(batch*self.batch_size+self.batch_size, self.X.shape[0])\n",
        "                batch_range= slice(start,end)\n",
        "                self.forward(batch_range)\n",
        "                self.backward(batch_range)\n",
        "\n",
        "    def save(self):\n",
        "        pass\n",
        "\n",
        "\n",
        "    def pass_inputs(self,values,labels):\n",
        "        self.layer_values = []\n",
        "\n",
        "        self.layer_values.append(values)\n",
        "\n",
        "        for layer_number, layer in enumerate(self.layers):\n",
        "            self.layer_values.append(layer.forward(self.layer_values[layer_number]))\n",
        "\n",
        "        return self.cost_function.get_cost(output_values=self.layer_values[-1],\n",
        "                                           expected_values=labels.reshape(self.layer_values[-1].shape))\n",
        "\n",
        "\n",
        "    def forward(self,batch_range):\n",
        "        self.layer_values.append(self.X[batch_range])\n",
        "\n",
        "        for layer_number, layer in enumerate(self.layers):\n",
        "            self.layer_values.append(layer.forward(self.layer_values[layer_number]))\n",
        "\n",
        "        labels= self.Y[batch_range].reshape(self.layer_values[-1].shape)\n",
        "        self.costs= self.cost_function.get_cost(output_values=self.layer_values[-1], expected_values=labels)\n",
        "\n",
        "\n",
        "\n",
        "    def backward(self, batch_range):\n",
        "\n",
        "        labels= self.Y[batch_range].reshape(self.layer_values[-1].shape)\n",
        "\n",
        "        running_gradient=self.cost_function.get_gradient(self.layer_values[-1], labels)\n",
        "\n",
        "        for layer_number in range(-1,-len(self.layers)-1,-1):\n",
        "\n",
        "            parameter_update_gradient = self.layers[layer_number].get_parameter_gradients(\n",
        "                running_gradient, self.layer_values[layer_number-1])\n",
        "\n",
        "            running_gradient= self.layers[layer_number].get_running_gradient(running_gradient)\n",
        "\n",
        "            self.optimizer.update_parameter(parameter_update_gradient,\n",
        "                                            self.layers[layer_number].get_parameters())\n",
        "\n",
        "\n",
        "\n",
        "\n",
        "\n"
      ]
    },
    {
      "cell_type": "code",
      "execution_count": 132,
      "id": "310ea1c9-474b-4101-81a2-9d9974accbd7",
      "metadata": {
        "colab": {
          "base_uri": "https://localhost:8080/",
          "height": 472
        },
        "id": "310ea1c9-474b-4101-81a2-9d9974accbd7",
        "outputId": "6165c433-26e9-4175-c844-eb623d14638e"
      },
      "outputs": [
        {
          "output_type": "display_data",
          "data": {
            "text/plain": [
              "<Figure size 640x480 with 1 Axes>"
            ],
            "image/png": "[encoded data removed]"
          },
          "metadata": {}
        }
      ],
      "source": [
        "# AUTOMATICALLY GENERATE DATA\n",
        "import numpy as np\n",
        "import matplotlib.pyplot as plt\n",
        "\n",
        "np.random.seed(42)\n",
        "X = np.random.randn(500, 2)\n",
        "\n",
        "Y = np.logical_xor(X[:, 0] > 0, X[:, 1] > 0).astype(int)\n",
        "\n",
        "plt.scatter(X[:, 0], X[:, 1], c=Y, cmap='coolwarm')\n",
        "plt.title(\"XOR Data\")\n",
        "plt.xlabel(\"X1\")\n",
        "plt.ylabel(\"X2\")\n",
        "plt.show()\n"
      ]
    },
    {
      "cell_type": "code",
      "execution_count": 188,
      "id": "90d9a3e0-8b67-4e19-ae1c-d8101a39be31",
      "metadata": {
        "id": "90d9a3e0-8b67-4e19-ae1c-d8101a39be31"
      },
      "outputs": [],
      "source": [
        "\n",
        "\n",
        "trainable_model = model([\n",
        "    linear(2, 32, \"relu\"),\n",
        "    linear(32, 32, \"relu\"),\n",
        "    linear(32, 1, \"sigmoid\")\n",
        "\n",
        "], \"binary_cross_entropy\", SGD(0.001), 100, X[:500,:], Y[:500], 10000)\n"
      ]
    },
    {
      "cell_type": "code",
      "source": [
        "\n",
        "\n",
        "trainable_model_2 = model([\n",
        "    linear(2, 2, \"relu\"),\n",
        "    linear(2, 1, \"sigmoid\"),\n",
        "\n",
        "    ], \"MSE\", SGD(0.01), 10, X[:90,:], np.random.randn(90), 10)\n"
      ],
      "metadata": {
        "id": "PP2SQzwKlnq6"
      },
      "id": "PP2SQzwKlnq6",
      "execution_count": 189,
      "outputs": []
    },
    {
      "cell_type": "code",
      "execution_count": 190,
      "id": "c2358694-cbe8-49f0-b12d-630b4a802bd4",
      "metadata": {
        "id": "c2358694-cbe8-49f0-b12d-630b4a802bd4",
        "colab": {
          "base_uri": "https://localhost:8080/"
        },
        "collapsed": true,
        "outputId": "5ee75bd9-3fc8-4edd-c112-660099f3a2fd"
      },
      "outputs": [
        {
          "output_type": "execute_result",
          "data": {
            "text/plain": [
              "0.0002371450007858861"
            ]
          },
          "metadata": {},
          "execution_count": 190
        }
      ],
      "source": [
        "trainable_model.train()\n",
        "trainable_model.costs\n"
      ]
    },
    {
      "cell_type": "code",
      "execution_count": 191,
      "id": "9746125b-3fb2-472a-9b79-ec8d270829c5",
      "metadata": {
        "colab": {
          "base_uri": "https://localhost:8080/"
        },
        "id": "9746125b-3fb2-472a-9b79-ec8d270829c5",
        "outputId": "6423bf27-a0fd-4156-e760-e7be6722abe1"
      },
      "outputs": [
        {
          "output_type": "execute_result",
          "data": {
            "text/plain": [
              "0.0036723225597751915"
            ]
          },
          "metadata": {},
          "execution_count": 191
        }
      ],
      "source": [
        "trainable_model.pass_inputs(X[91:,:],Y[91:])"
      ]
    },
    {
      "cell_type": "code",
      "source": [
        "trainable_model_2.pass_inputs(X[91:,:],Y[91:])"
      ],
      "metadata": {
        "colab": {
          "base_uri": "https://localhost:8080/"
        },
        "id": "lldUmRY3l0Av",
        "outputId": "bbb57fe1-091b-496e-b43b-1d15e0626059"
      },
      "id": "lldUmRY3l0Av",
      "execution_count": 192,
      "outputs": [
        {
          "output_type": "execute_result",
          "data": {
            "text/plain": [
              "0.13700707097603987"
            ]
          },
          "metadata": {},
          "execution_count": 192
        }
      ]
    },
    {
      "cell_type": "code",
      "execution_count": 192,
      "id": "bd890d85-681d-4243-9280-c74d9bd9667a",
      "metadata": {
        "id": "bd890d85-681d-4243-9280-c74d9bd9667a"
      },
      "outputs": [],
      "source": []
    },
    {
      "cell_type": "code",
      "execution_count": 147,
      "id": "ed07b9ea-9ac2-4cf2-8ca4-876a56d78ede",
      "metadata": {
        "id": "ed07b9ea-9ac2-4cf2-8ca4-876a56d78ede"
      },
      "outputs": [],
      "source": []
    }
  ],
  "metadata": {
    "accelerator": "GPU",
    "colab": {
      "gpuType": "T4",
      "provenance": []
    },
    "kernelspec": {
      "display_name": "Python 3",
      "name": "python3"
    },
    "language_info": {
      "codemirror_mode": {
        "name": "ipython",
        "version": 3
      },
      "file_extension": ".py",
      "mimetype": "text/x-python",
      "name": "python",
      "nbconvert_exporter": "python",
      "pygments_lexer": "ipython3",
      "version": "3.13.2"
    }
  },
  "nbformat": 4,
  "nbformat_minor": 5
}